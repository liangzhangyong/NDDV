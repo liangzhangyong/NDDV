{
 "cells": [
  {
   "cell_type": "markdown",
   "metadata": {},
   "source": [
    "# run time"
   ]
  },
  {
   "cell_type": "code",
   "execution_count": 1,
   "metadata": {},
   "outputs": [],
   "source": [
    "# Imports\n",
    "import os\n",
    "import sys\n",
    "BASE_DIR = os.path.dirname(os.getcwd())\n",
    "sys.path.append(BASE_DIR)\n",
    "import torch\n",
    "import numpy as np\n",
    "\n",
    "# Opendataval\n",
    "from dataval.dataloader import Register, DataFetcher, mix_labels, add_gauss_noise\n",
    "from dataval.datavaluation import NDDV\n",
    "\n",
    "from dataval.experiment import ExperimentMediator\n",
    "\n",
    "from dataval.experiment import ExperimentMediator\n",
    "\n",
    "from dataval.model.api import ClassifierSkLearnWrapper\n",
    "# from sklearn.linear_model import LogisticRegression\n",
    "from dataval.model.logistic_regression import LogisticRegression\n",
    "from sklearn.ensemble import RandomForestClassifier\n",
    "\n",
    "import warnings\n",
    "warnings.filterwarnings(\"ignore\")"
   ]
  },
  {
   "cell_type": "code",
   "execution_count": 2,
   "metadata": {},
   "outputs": [],
   "source": [
    "dataset_name = \"random_dataset\"\n",
    "noise_rate = 0.1\n",
    "noise_kwargs = {'noise_rate': noise_rate}\n",
    "max_epoch = 3\n",
    "batch_size = 100\n",
    "lr = 0.01\n",
    "random_state = 42\n",
    "train_kwargs = {\"epochs\": max_epoch, \"batch_size\": batch_size, \"lr\": lr}\n",
    "model_name = \"classifiermlp\" \n",
    "metric_name = \"accuracy\"\n",
    "cache_dir = \"../data_files/\"\n",
    "add_noise = mix_labels\n",
    "noise_type = \"mix_labels\"\n",
    "device = 'cpu'"
   ]
  },
  {
   "cell_type": "markdown",
   "metadata": {},
   "source": [
    "### (5e2,5)"
   ]
  },
  {
   "cell_type": "code",
   "execution_count": 3,
   "metadata": {},
   "outputs": [
    {
     "name": "stdout",
     "output_type": "stream",
     "text": [
      "Base line model metric_name='accuracy': perf=0.5\n"
     ]
    }
   ],
   "source": [
    "X, y= np.random.normal(size=(1000, 5)), np.random.choice([0,1], size=1000)\n",
    "Register(dataset_name=dataset_name, one_hot=True).from_data(X, y)\n",
    "train_count, valid_count, test_count, meta_count = 500, 50, 150, 50\n",
    "\n",
    "exper_med = ExperimentMediator.model_factory_setup(\n",
    "    dataset_name=dataset_name,\n",
    "    cache_dir=cache_dir,  \n",
    "    force_download=False,\n",
    "    train_count=train_count,\n",
    "    valid_count=valid_count,\n",
    "    test_count=test_count,\n",
    "    meta_count=meta_count,\n",
    "    add_noise=add_noise, \n",
    "    noise_kwargs=noise_kwargs,\n",
    "    train_kwargs=train_kwargs,\n",
    "    random_state = random_state,\n",
    "    model_name=model_name,\n",
    "    metric_name=metric_name,\n",
    "    device=device\n",
    ")\n",
    "\n",
    "data_evaluators = [NDDV(max_epochs=50,base_model=model_name,batch_size=batch_size,device=device)]"
   ]
  },
  {
   "cell_type": "code",
   "execution_count": 4,
   "metadata": {},
   "outputs": [
    {
     "name": "stderr",
     "output_type": "stream",
     "text": [
      "100%|██████████| 50/50 [00:01<00:00, 34.54it/s]"
     ]
    },
    {
     "name": "stdout",
     "output_type": "stream",
     "text": [
      "Elapsed time NDDV(max_epochs=50, base_model=classifiermlp, batch_size=100, device=cpu): 0:00:01.456024\n",
      "CPU times: user 22.9 s, sys: 22.5 ms, total: 23 s\n",
      "Wall time: 1.46 s\n"
     ]
    },
    {
     "name": "stderr",
     "output_type": "stream",
     "text": [
      "\n"
     ]
    }
   ],
   "source": [
    "%%time\n",
    "# compute data values.\n",
    "exper_med = exper_med.compute_data_values(data_evaluators=data_evaluators)"
   ]
  },
  {
   "cell_type": "markdown",
   "metadata": {},
   "source": [
    "### (5e2,50)"
   ]
  },
  {
   "cell_type": "code",
   "execution_count": 5,
   "metadata": {},
   "outputs": [
    {
     "name": "stdout",
     "output_type": "stream",
     "text": [
      "Base line model metric_name='accuracy': perf=0.5199999809265137\n"
     ]
    }
   ],
   "source": [
    "X, y= np.random.normal(size=(1000, 50)), np.random.choice([0,1], size=1000)\n",
    "Register(dataset_name=dataset_name, one_hot=True).from_data(X, y)\n",
    "train_count, valid_count, test_count, meta_count = 500, 50, 150, 50\n",
    "\n",
    "exper_med = ExperimentMediator.model_factory_setup(\n",
    "    dataset_name=dataset_name,\n",
    "    cache_dir=cache_dir,  \n",
    "    force_download=False,\n",
    "    train_count=train_count,\n",
    "    valid_count=valid_count,\n",
    "    test_count=test_count,\n",
    "    meta_count=meta_count,\n",
    "    add_noise=add_noise, \n",
    "    noise_kwargs=noise_kwargs,\n",
    "    train_kwargs=train_kwargs,\n",
    "    random_state = random_state,\n",
    "    model_name=model_name,\n",
    "    metric_name=metric_name,\n",
    "    device=device\n",
    ")\n",
    "\n",
    "data_evaluators = [NDDV(max_epochs=50, base_model=model_name,batch_size=batch_size,device=device)]"
   ]
  },
  {
   "cell_type": "code",
   "execution_count": 6,
   "metadata": {},
   "outputs": [
    {
     "name": "stderr",
     "output_type": "stream",
     "text": [
      "100%|██████████| 50/50 [00:01<00:00, 31.45it/s]"
     ]
    },
    {
     "name": "stdout",
     "output_type": "stream",
     "text": [
      "Elapsed time NDDV(max_epochs=50, base_model=classifiermlp, batch_size=100, device=cpu): 0:00:01.595975\n",
      "CPU times: user 25.2 s, sys: 11.9 ms, total: 25.2 s\n",
      "Wall time: 1.6 s\n"
     ]
    },
    {
     "name": "stderr",
     "output_type": "stream",
     "text": [
      "\n"
     ]
    }
   ],
   "source": [
    "%%time\n",
    "# compute data values.\n",
    "exper_med = exper_med.compute_data_values(data_evaluators=data_evaluators)"
   ]
  },
  {
   "cell_type": "markdown",
   "metadata": {},
   "source": [
    "### (5e2,500)"
   ]
  },
  {
   "cell_type": "code",
   "execution_count": 7,
   "metadata": {},
   "outputs": [
    {
     "name": "stdout",
     "output_type": "stream",
     "text": [
      "Base line model metric_name='accuracy': perf=0.46000000834465027\n"
     ]
    }
   ],
   "source": [
    "X, y= np.random.normal(size=(1000, 500)), np.random.choice([0,1], size=1000)\n",
    "Register(dataset_name=dataset_name, one_hot=True).from_data(X, y)\n",
    "train_count, valid_count, test_count, meta_count = 500, 50, 150, 50\n",
    "\n",
    "exper_med = ExperimentMediator.model_factory_setup(\n",
    "    dataset_name=dataset_name,\n",
    "    cache_dir=cache_dir,  \n",
    "    force_download=False,\n",
    "    train_count=train_count,\n",
    "    valid_count=valid_count,\n",
    "    test_count=test_count,\n",
    "    meta_count=meta_count,\n",
    "    add_noise=add_noise, \n",
    "    noise_kwargs=noise_kwargs,\n",
    "    train_kwargs=train_kwargs,\n",
    "    random_state = random_state,\n",
    "    model_name=model_name,\n",
    "    metric_name=metric_name,\n",
    "    device=device\n",
    ")\n",
    "\n",
    "data_evaluators = [NDDV(max_epochs=50, base_model=model_name,batch_size=batch_size,device=device)]"
   ]
  },
  {
   "cell_type": "code",
   "execution_count": 8,
   "metadata": {},
   "outputs": [
    {
     "name": "stderr",
     "output_type": "stream",
     "text": [
      "100%|██████████| 50/50 [00:02<00:00, 18.20it/s]"
     ]
    },
    {
     "name": "stdout",
     "output_type": "stream",
     "text": [
      "Elapsed time NDDV(max_epochs=50, base_model=classifiermlp, batch_size=100, device=cpu): 0:00:02.757994\n",
      "CPU times: user 43.1 s, sys: 123 ms, total: 43.2 s\n",
      "Wall time: 2.76 s\n"
     ]
    },
    {
     "name": "stderr",
     "output_type": "stream",
     "text": [
      "\n"
     ]
    }
   ],
   "source": [
    "%%time\n",
    "# compute data values.\n",
    "exper_med = exper_med.compute_data_values(data_evaluators=data_evaluators)"
   ]
  },
  {
   "cell_type": "markdown",
   "metadata": {},
   "source": [
    "### (7e2,5)"
   ]
  },
  {
   "cell_type": "code",
   "execution_count": 9,
   "metadata": {},
   "outputs": [
    {
     "name": "stdout",
     "output_type": "stream",
     "text": [
      "Base line model metric_name='accuracy': perf=0.5285714268684387\n"
     ]
    }
   ],
   "source": [
    "X, y= np.random.normal(size=(1500, 5)), np.random.choice([0,1], size=1500)\n",
    "Register(dataset_name=dataset_name, one_hot=True).from_data(X, y)\n",
    "train_count, valid_count, test_count, meta_count = 700, 70, 210, 70\n",
    "\n",
    "exper_med = ExperimentMediator.model_factory_setup(\n",
    "    dataset_name=dataset_name,\n",
    "    cache_dir=cache_dir,  \n",
    "    force_download=False,\n",
    "    train_count=train_count,\n",
    "    valid_count=valid_count,\n",
    "    test_count=test_count,\n",
    "    meta_count=meta_count,\n",
    "    add_noise=add_noise, \n",
    "    noise_kwargs=noise_kwargs,\n",
    "    train_kwargs=train_kwargs,\n",
    "    random_state = random_state,\n",
    "    model_name=model_name,\n",
    "    metric_name=metric_name,\n",
    "    device=device\n",
    ")\n",
    "\n",
    "data_evaluators = [NDDV(max_epochs=50, base_model=model_name,batch_size=batch_size,device=device)]"
   ]
  },
  {
   "cell_type": "code",
   "execution_count": 10,
   "metadata": {},
   "outputs": [
    {
     "name": "stderr",
     "output_type": "stream",
     "text": [
      "100%|██████████| 50/50 [00:02<00:00, 24.89it/s]"
     ]
    },
    {
     "name": "stdout",
     "output_type": "stream",
     "text": [
      "Elapsed time NDDV(max_epochs=50, base_model=classifiermlp, batch_size=100, device=cpu): 0:00:02.016506\n",
      "CPU times: user 31.9 s, sys: 26.3 ms, total: 32 s\n",
      "Wall time: 2.02 s\n"
     ]
    },
    {
     "name": "stderr",
     "output_type": "stream",
     "text": [
      "\n"
     ]
    }
   ],
   "source": [
    "%%time\n",
    "# compute data values.\n",
    "exper_med = exper_med.compute_data_values(data_evaluators=data_evaluators)"
   ]
  },
  {
   "cell_type": "markdown",
   "metadata": {},
   "source": [
    "### (7e2,50)"
   ]
  },
  {
   "cell_type": "code",
   "execution_count": 11,
   "metadata": {},
   "outputs": [
    {
     "name": "stdout",
     "output_type": "stream",
     "text": [
      "Base line model metric_name='accuracy': perf=0.5\n"
     ]
    }
   ],
   "source": [
    "X, y= np.random.normal(size=(1500, 50)), np.random.choice([0,1], size=1500)\n",
    "Register(dataset_name=dataset_name, one_hot=True).from_data(X, y)\n",
    "train_count, valid_count, test_count, meta_count = 700, 70, 210, 70\n",
    "\n",
    "exper_med = ExperimentMediator.model_factory_setup(\n",
    "    dataset_name=dataset_name,\n",
    "    cache_dir=cache_dir,  \n",
    "    force_download=False,\n",
    "    train_count=train_count,\n",
    "    valid_count=valid_count,\n",
    "    test_count=test_count,\n",
    "    meta_count=meta_count,\n",
    "    add_noise=add_noise, \n",
    "    noise_kwargs=noise_kwargs,\n",
    "    train_kwargs=train_kwargs,\n",
    "    random_state = random_state,\n",
    "    model_name=model_name,\n",
    "    metric_name=metric_name,\n",
    "    device=device\n",
    ")\n",
    "\n",
    "data_evaluators = [NDDV(max_epochs=50, base_model=model_name,batch_size=batch_size,device=device)]"
   ]
  },
  {
   "cell_type": "code",
   "execution_count": 12,
   "metadata": {},
   "outputs": [
    {
     "name": "stderr",
     "output_type": "stream",
     "text": [
      "100%|██████████| 50/50 [00:02<00:00, 22.24it/s]"
     ]
    },
    {
     "name": "stdout",
     "output_type": "stream",
     "text": [
      "Elapsed time NDDV(max_epochs=50, base_model=classifiermlp, batch_size=100, device=cpu): 0:00:02.254369\n",
      "CPU times: user 35.8 s, sys: 26.3 ms, total: 35.8 s\n",
      "Wall time: 2.25 s\n"
     ]
    },
    {
     "name": "stderr",
     "output_type": "stream",
     "text": [
      "\n"
     ]
    }
   ],
   "source": [
    "%%time\n",
    "# compute data values.\n",
    "exper_med = exper_med.compute_data_values(data_evaluators=data_evaluators)"
   ]
  },
  {
   "cell_type": "markdown",
   "metadata": {},
   "source": [
    "### (7e2,500)"
   ]
  },
  {
   "cell_type": "code",
   "execution_count": 13,
   "metadata": {},
   "outputs": [
    {
     "name": "stdout",
     "output_type": "stream",
     "text": [
      "Base line model metric_name='accuracy': perf=0.5142857432365417\n"
     ]
    }
   ],
   "source": [
    "X, y= np.random.normal(size=(1500, 500)), np.random.choice([0,1], size=1500)\n",
    "Register(dataset_name=dataset_name, one_hot=True).from_data(X, y)\n",
    "train_count, valid_count, test_count, meta_count = 700, 70, 210, 70\n",
    "\n",
    "exper_med = ExperimentMediator.model_factory_setup(\n",
    "    dataset_name=dataset_name,\n",
    "    cache_dir=cache_dir,  \n",
    "    force_download=False,\n",
    "    train_count=train_count,\n",
    "    valid_count=valid_count,\n",
    "    test_count=test_count,\n",
    "    meta_count=meta_count,\n",
    "    add_noise=add_noise, \n",
    "    noise_kwargs=noise_kwargs,\n",
    "    train_kwargs=train_kwargs,\n",
    "    random_state = random_state,\n",
    "    model_name=model_name,\n",
    "    metric_name=metric_name,\n",
    "    device=device\n",
    ")\n",
    "\n",
    "data_evaluators = [NDDV(max_epochs=50, base_model=model_name,batch_size=batch_size,device=device)]"
   ]
  },
  {
   "cell_type": "code",
   "execution_count": 14,
   "metadata": {},
   "outputs": [
    {
     "name": "stderr",
     "output_type": "stream",
     "text": [
      "100%|██████████| 50/50 [00:03<00:00, 15.01it/s]"
     ]
    },
    {
     "name": "stdout",
     "output_type": "stream",
     "text": [
      "Elapsed time NDDV(max_epochs=50, base_model=classifiermlp, batch_size=100, device=cpu): 0:00:03.338930\n",
      "CPU times: user 52.7 s, sys: 60.9 ms, total: 52.8 s\n",
      "Wall time: 3.34 s\n"
     ]
    },
    {
     "name": "stderr",
     "output_type": "stream",
     "text": [
      "\n"
     ]
    }
   ],
   "source": [
    "%%time\n",
    "# compute data values.\n",
    "exper_med = exper_med.compute_data_values(data_evaluators=data_evaluators)"
   ]
  },
  {
   "cell_type": "markdown",
   "metadata": {},
   "source": [
    "### (1e3,5)"
   ]
  },
  {
   "cell_type": "code",
   "execution_count": 15,
   "metadata": {},
   "outputs": [
    {
     "name": "stdout",
     "output_type": "stream",
     "text": [
      "Base line model metric_name='accuracy': perf=0.5299999713897705\n"
     ]
    }
   ],
   "source": [
    "X, y= np.random.normal(size=(1500, 5)), np.random.choice([0,1], size=1500)\n",
    "Register(dataset_name=dataset_name, one_hot=True).from_data(X, y)\n",
    "train_count, valid_count, test_count, meta_count = 1000, 100, 300, 100\n",
    "\n",
    "exper_med = ExperimentMediator.model_factory_setup(\n",
    "    dataset_name=dataset_name,\n",
    "    cache_dir=cache_dir,  \n",
    "    force_download=False,\n",
    "    train_count=train_count,\n",
    "    valid_count=valid_count,\n",
    "    test_count=test_count,\n",
    "    meta_count=meta_count,\n",
    "    add_noise=add_noise, \n",
    "    noise_kwargs=noise_kwargs,\n",
    "    train_kwargs=train_kwargs,\n",
    "    random_state = random_state,\n",
    "    model_name=model_name,\n",
    "    metric_name=metric_name,\n",
    "    device=device\n",
    ")\n",
    "\n",
    "data_evaluators = [NDDV(max_epochs=50, base_model=model_name,batch_size=batch_size,device=device)]"
   ]
  },
  {
   "cell_type": "code",
   "execution_count": 16,
   "metadata": {},
   "outputs": [
    {
     "name": "stderr",
     "output_type": "stream",
     "text": [
      "100%|██████████| 50/50 [00:02<00:00, 17.06it/s]"
     ]
    },
    {
     "name": "stdout",
     "output_type": "stream",
     "text": [
      "Elapsed time NDDV(max_epochs=50, base_model=classifiermlp, batch_size=100, device=cpu): 0:00:02.937529\n",
      "CPU times: user 46.5 s, sys: 31.2 ms, total: 46.6 s\n",
      "Wall time: 2.94 s\n"
     ]
    },
    {
     "name": "stderr",
     "output_type": "stream",
     "text": [
      "\n"
     ]
    }
   ],
   "source": [
    "%%time\n",
    "# compute data values.\n",
    "exper_med = exper_med.compute_data_values(data_evaluators=data_evaluators)"
   ]
  },
  {
   "cell_type": "markdown",
   "metadata": {},
   "source": [
    "### (1e3,50)"
   ]
  },
  {
   "cell_type": "code",
   "execution_count": 17,
   "metadata": {},
   "outputs": [
    {
     "name": "stdout",
     "output_type": "stream",
     "text": [
      "Base line model metric_name='accuracy': perf=0.5\n"
     ]
    }
   ],
   "source": [
    "X, y= np.random.normal(size=(1500, 50)), np.random.choice([0,1], size=1500)\n",
    "Register(dataset_name=dataset_name, one_hot=True).from_data(X, y)\n",
    "train_count, valid_count, test_count, meta_count = 1000, 100, 300, 100\n",
    "\n",
    "exper_med = ExperimentMediator.model_factory_setup(\n",
    "    dataset_name=dataset_name,\n",
    "    cache_dir=cache_dir,  \n",
    "    force_download=False,\n",
    "    train_count=train_count,\n",
    "    valid_count=valid_count,\n",
    "    test_count=test_count,\n",
    "    meta_count=meta_count,\n",
    "    add_noise=add_noise, \n",
    "    noise_kwargs=noise_kwargs,\n",
    "    train_kwargs=train_kwargs,\n",
    "    random_state = random_state,\n",
    "    model_name=model_name,\n",
    "    metric_name=metric_name,\n",
    "    device=device\n",
    ")\n",
    "\n",
    "data_evaluators = [NDDV(max_epochs=50, base_model=model_name,batch_size=batch_size,device=device)]"
   ]
  },
  {
   "cell_type": "code",
   "execution_count": 18,
   "metadata": {},
   "outputs": [
    {
     "name": "stderr",
     "output_type": "stream",
     "text": [
      "100%|██████████| 50/50 [00:03<00:00, 14.03it/s]"
     ]
    },
    {
     "name": "stdout",
     "output_type": "stream",
     "text": [
      "Elapsed time NDDV(max_epochs=50, base_model=classifiermlp, batch_size=100, device=cpu): 0:00:03.571125\n",
      "CPU times: user 56.7 s, sys: 62.6 ms, total: 56.7 s\n",
      "Wall time: 3.57 s\n"
     ]
    },
    {
     "name": "stderr",
     "output_type": "stream",
     "text": [
      "\n"
     ]
    }
   ],
   "source": [
    "%%time\n",
    "# compute data values.\n",
    "exper_med = exper_med.compute_data_values(data_evaluators=data_evaluators)"
   ]
  },
  {
   "cell_type": "markdown",
   "metadata": {},
   "source": [
    "### (1e3,500)"
   ]
  },
  {
   "cell_type": "code",
   "execution_count": 19,
   "metadata": {},
   "outputs": [
    {
     "name": "stdout",
     "output_type": "stream",
     "text": [
      "Base line model metric_name='accuracy': perf=0.5600000023841858\n"
     ]
    }
   ],
   "source": [
    "X, y= np.random.normal(size=(1500, 500)), np.random.choice([0,1], size=1500)\n",
    "Register(dataset_name=dataset_name, one_hot=True).from_data(X, y)\n",
    "train_count, valid_count, test_count, meta_count = 1000, 100, 300, 100\n",
    "\n",
    "exper_med = ExperimentMediator.model_factory_setup(\n",
    "    dataset_name=dataset_name,\n",
    "    cache_dir=cache_dir,  \n",
    "    force_download=False,\n",
    "    train_count=train_count,\n",
    "    valid_count=valid_count,\n",
    "    test_count=test_count,\n",
    "    meta_count=meta_count,\n",
    "    add_noise=add_noise, \n",
    "    noise_kwargs=noise_kwargs,\n",
    "    train_kwargs=train_kwargs,\n",
    "    random_state = random_state,\n",
    "    model_name=model_name,\n",
    "    metric_name=metric_name,\n",
    "    device=device\n",
    ")\n",
    "\n",
    "data_evaluators = [NDDV(max_epochs=50, base_model=model_name,batch_size=batch_size,device=device)]"
   ]
  },
  {
   "cell_type": "code",
   "execution_count": 20,
   "metadata": {},
   "outputs": [
    {
     "name": "stderr",
     "output_type": "stream",
     "text": [
      "100%|██████████| 50/50 [00:05<00:00,  9.26it/s]"
     ]
    },
    {
     "name": "stdout",
     "output_type": "stream",
     "text": [
      "Elapsed time NDDV(max_epochs=50, base_model=classifiermlp, batch_size=100, device=cpu): 0:00:05.413387\n",
      "CPU times: user 1min 25s, sys: 155 ms, total: 1min 25s\n",
      "Wall time: 5.41 s\n"
     ]
    },
    {
     "name": "stderr",
     "output_type": "stream",
     "text": [
      "\n"
     ]
    }
   ],
   "source": [
    "%%time\n",
    "# compute data values.\n",
    "exper_med = exper_med.compute_data_values(data_evaluators=data_evaluators)"
   ]
  },
  {
   "cell_type": "markdown",
   "metadata": {},
   "source": [
    "### (3e3,5)"
   ]
  },
  {
   "cell_type": "code",
   "execution_count": 21,
   "metadata": {},
   "outputs": [
    {
     "name": "stdout",
     "output_type": "stream",
     "text": [
      "Base line model metric_name='accuracy': perf=0.5133333206176758\n"
     ]
    }
   ],
   "source": [
    "X, y= np.random.normal(size=(5500, 5)), np.random.choice([0,1], size=5500)\n",
    "Register(dataset_name=dataset_name, one_hot=True).from_data(X, y)\n",
    "train_count, valid_count, test_count, meta_count = 3000, 300, 900, 300\n",
    "\n",
    "exper_med = ExperimentMediator.model_factory_setup(\n",
    "    dataset_name=dataset_name,\n",
    "    cache_dir=cache_dir,  \n",
    "    force_download=False,\n",
    "    train_count=train_count,\n",
    "    valid_count=valid_count,\n",
    "    test_count=test_count,\n",
    "    meta_count=meta_count,\n",
    "    add_noise=add_noise, \n",
    "    noise_kwargs=noise_kwargs,\n",
    "    train_kwargs=train_kwargs,\n",
    "    random_state = random_state,\n",
    "    model_name=model_name,\n",
    "    metric_name=metric_name,\n",
    "    device=device\n",
    ")\n",
    "\n",
    "data_evaluators = [NDDV(max_epochs=50, base_model=model_name,batch_size=batch_size,device=device)]"
   ]
  },
  {
   "cell_type": "code",
   "execution_count": 22,
   "metadata": {},
   "outputs": [
    {
     "name": "stderr",
     "output_type": "stream",
     "text": [
      "100%|██████████| 50/50 [00:08<00:00,  5.71it/s]"
     ]
    },
    {
     "name": "stdout",
     "output_type": "stream",
     "text": [
      "Elapsed time NDDV(max_epochs=50, base_model=classifiermlp, batch_size=100, device=cpu): 0:00:08.757314\n",
      "CPU times: user 2min 19s, sys: 95.2 ms, total: 2min 19s\n",
      "Wall time: 8.76 s\n"
     ]
    },
    {
     "name": "stderr",
     "output_type": "stream",
     "text": [
      "\n"
     ]
    }
   ],
   "source": [
    "%%time\n",
    "# compute data values.\n",
    "exper_med = exper_med.compute_data_values(data_evaluators=data_evaluators)"
   ]
  },
  {
   "cell_type": "markdown",
   "metadata": {},
   "source": [
    "### (3e3,50)"
   ]
  },
  {
   "cell_type": "code",
   "execution_count": 23,
   "metadata": {},
   "outputs": [
    {
     "name": "stdout",
     "output_type": "stream",
     "text": [
      "Base line model metric_name='accuracy': perf=0.5366666913032532\n"
     ]
    }
   ],
   "source": [
    "X, y= np.random.normal(size=(5500, 50)), np.random.choice([0,1], size=5500)\n",
    "Register(dataset_name=dataset_name, one_hot=True).from_data(X, y)\n",
    "train_count, valid_count, test_count, meta_count = 3000, 300, 900, 300\n",
    "\n",
    "exper_med = ExperimentMediator.model_factory_setup(\n",
    "    dataset_name=dataset_name,\n",
    "    cache_dir=cache_dir,  \n",
    "    force_download=False,\n",
    "    train_count=train_count,\n",
    "    valid_count=valid_count,\n",
    "    test_count=test_count,\n",
    "    meta_count=meta_count,\n",
    "    add_noise=add_noise, \n",
    "    noise_kwargs=noise_kwargs,\n",
    "    train_kwargs=train_kwargs,\n",
    "    random_state = random_state,\n",
    "    model_name=model_name,\n",
    "    metric_name=metric_name,\n",
    "    device=device\n",
    ")\n",
    "\n",
    "data_evaluators = [NDDV(max_epochs=50, base_model=model_name,batch_size=batch_size,device=device)]"
   ]
  },
  {
   "cell_type": "code",
   "execution_count": 24,
   "metadata": {},
   "outputs": [
    {
     "name": "stderr",
     "output_type": "stream",
     "text": [
      "100%|██████████| 50/50 [00:09<00:00,  5.31it/s]"
     ]
    },
    {
     "name": "stdout",
     "output_type": "stream",
     "text": [
      "Elapsed time NDDV(max_epochs=50, base_model=classifiermlp, batch_size=100, device=cpu): 0:00:09.417125\n",
      "CPU times: user 2min 29s, sys: 79.6 ms, total: 2min 29s\n",
      "Wall time: 9.42 s\n"
     ]
    },
    {
     "name": "stderr",
     "output_type": "stream",
     "text": [
      "\n"
     ]
    }
   ],
   "source": [
    "%%time\n",
    "# compute data values.\n",
    "exper_med = exper_med.compute_data_values(data_evaluators=data_evaluators)"
   ]
  },
  {
   "cell_type": "markdown",
   "metadata": {},
   "source": [
    "### (3e3,500)"
   ]
  },
  {
   "cell_type": "code",
   "execution_count": 25,
   "metadata": {},
   "outputs": [
    {
     "name": "stdout",
     "output_type": "stream",
     "text": [
      "Base line model metric_name='accuracy': perf=0.49666666984558105\n"
     ]
    }
   ],
   "source": [
    "X, y= np.random.normal(size=(5500, 500)), np.random.choice([0,1], size=5500)\n",
    "Register(dataset_name=dataset_name, one_hot=True).from_data(X, y)\n",
    "train_count, valid_count, test_count, meta_count = 3000, 300, 900, 300\n",
    "\n",
    "exper_med = ExperimentMediator.model_factory_setup(\n",
    "    dataset_name=dataset_name,\n",
    "    cache_dir=cache_dir,  \n",
    "    force_download=False,\n",
    "    train_count=train_count,\n",
    "    valid_count=valid_count,\n",
    "    test_count=test_count,\n",
    "    meta_count=meta_count,\n",
    "    add_noise=add_noise, \n",
    "    noise_kwargs=noise_kwargs,\n",
    "    train_kwargs=train_kwargs,\n",
    "    random_state = random_state,\n",
    "    model_name=model_name,\n",
    "    metric_name=metric_name,\n",
    "    device=device\n",
    ")\n",
    "\n",
    "data_evaluators = [NDDV(max_epochs=50, base_model=model_name,batch_size=batch_size,device=device)]"
   ]
  },
  {
   "cell_type": "code",
   "execution_count": 26,
   "metadata": {},
   "outputs": [
    {
     "name": "stderr",
     "output_type": "stream",
     "text": [
      "  0%|          | 0/50 [00:00<?, ?it/s]"
     ]
    },
    {
     "name": "stderr",
     "output_type": "stream",
     "text": [
      "100%|██████████| 50/50 [00:15<00:00,  3.24it/s]"
     ]
    },
    {
     "name": "stdout",
     "output_type": "stream",
     "text": [
      "Elapsed time NDDV(max_epochs=50, base_model=classifiermlp, batch_size=100, device=cpu): 0:00:15.438950\n",
      "CPU times: user 4min 5s, sys: 304 ms, total: 4min 5s\n",
      "Wall time: 15.4 s\n"
     ]
    },
    {
     "name": "stderr",
     "output_type": "stream",
     "text": [
      "\n"
     ]
    }
   ],
   "source": [
    "%%time\n",
    "# compute data values.\n",
    "exper_med = exper_med.compute_data_values(data_evaluators=data_evaluators)"
   ]
  },
  {
   "cell_type": "markdown",
   "metadata": {},
   "source": [
    "### (5e3,5)"
   ]
  },
  {
   "cell_type": "code",
   "execution_count": 27,
   "metadata": {},
   "outputs": [
    {
     "name": "stdout",
     "output_type": "stream",
     "text": [
      "Base line model metric_name='accuracy': perf=0.4779999852180481\n"
     ]
    }
   ],
   "source": [
    "X, y= np.random.normal(size=(7500, 5)), np.random.choice([0,1], size=7500)\n",
    "Register(dataset_name=dataset_name, one_hot=True).from_data(X, y)\n",
    "train_count, valid_count, test_count, meta_count = 5000, 500, 1500, 500\n",
    "\n",
    "exper_med = ExperimentMediator.model_factory_setup(\n",
    "    dataset_name=dataset_name,\n",
    "    cache_dir=cache_dir,  \n",
    "    force_download=False,\n",
    "    train_count=train_count,\n",
    "    valid_count=valid_count,\n",
    "    test_count=test_count,\n",
    "    meta_count=meta_count,\n",
    "    add_noise=add_noise, \n",
    "    noise_kwargs=noise_kwargs,\n",
    "    train_kwargs=train_kwargs,\n",
    "    random_state = random_state,\n",
    "    model_name=model_name,\n",
    "    metric_name=metric_name,\n",
    "    device=device\n",
    ")\n",
    "\n",
    "data_evaluators = [NDDV(max_epochs=50, base_model=model_name,batch_size=batch_size,device=device)]"
   ]
  },
  {
   "cell_type": "code",
   "execution_count": 28,
   "metadata": {},
   "outputs": [
    {
     "name": "stderr",
     "output_type": "stream",
     "text": [
      "100%|██████████| 50/50 [00:14<00:00,  3.52it/s]"
     ]
    },
    {
     "name": "stdout",
     "output_type": "stream",
     "text": [
      "Elapsed time NDDV(max_epochs=50, base_model=classifiermlp, batch_size=100, device=cpu): 0:00:14.207871\n",
      "CPU times: user 3min 45s, sys: 152 ms, total: 3min 45s\n",
      "Wall time: 14.2 s\n"
     ]
    },
    {
     "name": "stderr",
     "output_type": "stream",
     "text": [
      "\n"
     ]
    }
   ],
   "source": [
    "%%time\n",
    "# compute data values.\n",
    "exper_med = exper_med.compute_data_values(data_evaluators=data_evaluators)"
   ]
  },
  {
   "cell_type": "markdown",
   "metadata": {},
   "source": [
    "### (5e3,50)"
   ]
  },
  {
   "cell_type": "code",
   "execution_count": 29,
   "metadata": {},
   "outputs": [
    {
     "name": "stdout",
     "output_type": "stream",
     "text": [
      "Base line model metric_name='accuracy': perf=0.5019999742507935\n"
     ]
    }
   ],
   "source": [
    "X, y= np.random.normal(size=(7500, 50)), np.random.choice([0,1], size=7500)\n",
    "Register(dataset_name=dataset_name, one_hot=True).from_data(X, y)\n",
    "train_count, valid_count, test_count, meta_count = 5000, 500, 1500, 500\n",
    "exper_med = ExperimentMediator.model_factory_setup(\n",
    "    dataset_name=dataset_name,\n",
    "    cache_dir=cache_dir,  \n",
    "    force_download=False,\n",
    "    train_count=train_count,\n",
    "    valid_count=valid_count,\n",
    "    test_count=test_count,\n",
    "    meta_count=meta_count,\n",
    "    add_noise=add_noise, \n",
    "    noise_kwargs=noise_kwargs,\n",
    "    train_kwargs=train_kwargs,\n",
    "    random_state = random_state,\n",
    "    model_name=model_name,\n",
    "    metric_name=metric_name,\n",
    "    device=device\n",
    ")\n",
    "\n",
    "data_evaluators = [NDDV(max_epochs=50, base_model=model_name,batch_size=batch_size,device=device)]"
   ]
  },
  {
   "cell_type": "code",
   "execution_count": 30,
   "metadata": {},
   "outputs": [
    {
     "name": "stderr",
     "output_type": "stream",
     "text": [
      "100%|██████████| 50/50 [00:15<00:00,  3.13it/s]"
     ]
    },
    {
     "name": "stdout",
     "output_type": "stream",
     "text": [
      "Elapsed time NDDV(max_epochs=50, base_model=classifiermlp, batch_size=100, device=cpu): 0:00:15.977955\n",
      "CPU times: user 4min 14s, sys: 128 ms, total: 4min 14s\n",
      "Wall time: 16 s\n"
     ]
    },
    {
     "name": "stderr",
     "output_type": "stream",
     "text": [
      "\n"
     ]
    }
   ],
   "source": [
    "%%time\n",
    "# compute data values.\n",
    "exper_med = exper_med.compute_data_values(data_evaluators=data_evaluators)"
   ]
  },
  {
   "cell_type": "markdown",
   "metadata": {},
   "source": [
    "### (5e3,500)"
   ]
  },
  {
   "cell_type": "code",
   "execution_count": 32,
   "metadata": {},
   "outputs": [
    {
     "name": "stdout",
     "output_type": "stream",
     "text": [
      "Base line model metric_name='accuracy': perf=0.5\n"
     ]
    }
   ],
   "source": [
    "X, y= np.random.normal(size=(7500, 500)), np.random.choice([0,1], size=7500)\n",
    "Register(dataset_name=dataset_name, one_hot=True).from_data(X, y)\n",
    "train_count, valid_count, test_count, meta_count = 5000, 500, 1500, 500\n",
    "\n",
    "exper_med = ExperimentMediator.model_factory_setup(\n",
    "    dataset_name=dataset_name,\n",
    "    cache_dir=cache_dir,  \n",
    "    force_download=False,\n",
    "    train_count=train_count,\n",
    "    valid_count=valid_count,\n",
    "    test_count=test_count,\n",
    "    meta_count=meta_count,\n",
    "    add_noise=add_noise, \n",
    "    noise_kwargs=noise_kwargs,\n",
    "    train_kwargs=train_kwargs,\n",
    "    random_state = random_state,\n",
    "    model_name=model_name,\n",
    "    metric_name=metric_name,\n",
    "    device=device\n",
    ")\n",
    "\n",
    "data_evaluators = [NDDV(max_epochs=50, base_model=model_name,batch_size=batch_size,device=device)]"
   ]
  },
  {
   "cell_type": "code",
   "execution_count": 33,
   "metadata": {},
   "outputs": [
    {
     "name": "stderr",
     "output_type": "stream",
     "text": [
      "100%|██████████| 50/50 [00:26<00:00,  1.87it/s]"
     ]
    },
    {
     "name": "stdout",
     "output_type": "stream",
     "text": [
      "Elapsed time NDDV(max_epochs=50, base_model=classifiermlp, batch_size=100, device=cpu): 0:00:26.775249\n",
      "CPU times: user 7min 5s, sys: 368 ms, total: 7min 6s\n",
      "Wall time: 26.8 s\n"
     ]
    },
    {
     "name": "stderr",
     "output_type": "stream",
     "text": [
      "\n"
     ]
    }
   ],
   "source": [
    "%%time\n",
    "# compute data values.\n",
    "exper_med = exper_med.compute_data_values(data_evaluators=data_evaluators)"
   ]
  },
  {
   "cell_type": "code",
   "execution_count": null,
   "metadata": {},
   "outputs": [],
   "source": []
  }
 ],
 "metadata": {
  "kernelspec": {
   "display_name": "Python 3 (ipykernel)",
   "language": "python",
   "name": "python3"
  },
  "language_info": {
   "codemirror_mode": {
    "name": "ipython",
    "version": 3
   },
   "file_extension": ".py",
   "mimetype": "text/x-python",
   "name": "python",
   "nbconvert_exporter": "python",
   "pygments_lexer": "ipython3",
   "version": "3.10.6"
  }
 },
 "nbformat": 4,
 "nbformat_minor": 2
}
